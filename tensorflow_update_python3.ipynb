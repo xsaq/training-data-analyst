{
 "cells": [
  {
   "cell_type": "code",
   "execution_count": 1,
   "metadata": {},
   "outputs": [
    {
     "name": "stdout",
     "output_type": "stream",
     "text": [
      "Collecting tensorflow\n",
      "\u001b[?25l  Downloading https://files.pythonhosted.org/packages/7c/fb/7b2c5b3e85ad335b53ca67deb2ef4af574dc0a8759f43b7f45e15005e449/tensorflow-1.14.0-cp35-cp35m-manylinux1_x86_64.whl (109.2MB)\n",
      "\u001b[K    100% |████████████████████████████████| 109.2MB 254kB/s eta 0:00:01 3% |█▎                              | 4.3MB 37.1MB/s eta 0:00:03    4% |█▋                              | 5.3MB 9.1MB/s eta 0:00:12    9% |███                             | 9.9MB 37.6MB/s eta 0:00:03    10% |███▍                            | 11.6MB 41.2MB/s eta 0:00:03    15% |████▉                           | 16.5MB 36.8MB/s eta 0:00:03    22% |███████▎                        | 24.8MB 39.4MB/s eta 0:00:03    24% |███████▊                        | 26.3MB 35.9MB/s eta 0:00:03    25% |████████▏                       | 28.0MB 35.8MB/s eta 0:00:03    27% |█████████                       | 30.4MB 8.7MB/s eta 0:00:10    32% |██████████▍                     | 35.3MB 36.0MB/s eta 0:00:03    33% |██████████▋                     | 36.2MB 22.4MB/s eta 0:00:04    37% |████████████                    | 40.9MB 35.2MB/s eta 0:00:02    54% |█████████████████▋              | 59.9MB 40.1MB/s eta 0:00:02    70% |██████████████████████▌         | 76.7MB 37.7MB/s eta 0:00:01    83% |██████████████████████████▊     | 91.2MB 35.7MB/s eta 0:00:01    86% |███████████████████████████▋    | 94.4MB 41.9MB/s eta 0:00:01    87% |████████████████████████████▏   | 96.1MB 41.0MB/s eta 0:00:01    92% |█████████████████████████████▌  | 100.7MB 32.2MB/s eta 0:00:01    97% |███████████████████████████████▏| 106.2MB 12.7MB/s eta 0:00:01    98% |███████████████████████████████▍| 107.1MB 37.8MB/s eta 0:00:01\n",
      "\u001b[?25hCollecting keras-preprocessing>=1.0.5 (from tensorflow)\n",
      "  Using cached https://files.pythonhosted.org/packages/28/6a/8c1f62c37212d9fc441a7e26736df51ce6f0e38455816445471f10da4f0a/Keras_Preprocessing-1.1.0-py2.py3-none-any.whl\n",
      "Requirement already satisfied, skipping upgrade: astor>=0.6.0 in /usr/local/envs/py3env/lib/python3.5/site-packages (from tensorflow) (0.8.0)\n",
      "Requirement already satisfied, skipping upgrade: six>=1.10.0 in /usr/local/envs/py3env/lib/python3.5/site-packages (from tensorflow) (1.10.0)\n",
      "Collecting wrapt>=1.11.1 (from tensorflow)\n",
      "  Using cached https://files.pythonhosted.org/packages/23/84/323c2415280bc4fc880ac5050dddfb3c8062c2552b34c2e512eb4aa68f79/wrapt-1.11.2.tar.gz\n",
      "Requirement already satisfied, skipping upgrade: wheel>=0.26 in /usr/local/envs/py3env/lib/python3.5/site-packages (from tensorflow) (0.31.1)\n",
      "Requirement already satisfied, skipping upgrade: absl-py>=0.7.0 in /usr/local/envs/py3env/lib/python3.5/site-packages (from tensorflow) (0.7.1)\n",
      "Requirement already satisfied, skipping upgrade: termcolor>=1.1.0 in /usr/local/envs/py3env/lib/python3.5/site-packages (from tensorflow) (1.1.0)\n",
      "Collecting numpy<2.0,>=1.14.5 (from tensorflow)\n",
      "\u001b[?25l  Downloading https://files.pythonhosted.org/packages/bb/ef/d5a21cbc094d3f4d5b5336494dbcc9550b70c766a8345513c7c24ed18418/numpy-1.16.4-cp35-cp35m-manylinux1_x86_64.whl (17.2MB)\n",
      "\u001b[K    100% |████████████████████████████████| 17.2MB 1.7MB/s eta 0:00:01  8% |██▋                             | 1.4MB 40.1MB/s eta 0:00:01    24% |███████▉                        | 4.2MB 33.4MB/s eta 0:00:01    33% |██████████▋                     | 5.7MB 35.5MB/s eta 0:00:01    46% |███████████████                 | 8.1MB 22.3MB/s eta 0:00:01    61% |███████████████████▊            | 10.6MB 12.5MB/s eta 0:00:01    70% |██████████████████████▍         | 12.1MB 35.0MB/s eta 0:00:01    95% |██████████████████████████████▊ | 16.5MB 12.1MB/s eta 0:00:01\n",
      "\u001b[?25hRequirement already satisfied, skipping upgrade: protobuf>=3.6.1 in /usr/local/envs/py3env/lib/python3.5/site-packages (from tensorflow) (3.6.1)\n",
      "Requirement already satisfied, skipping upgrade: gast>=0.2.0 in /usr/local/envs/py3env/lib/python3.5/site-packages (from tensorflow) (0.2.2)\n",
      "Collecting tensorboard<1.15.0,>=1.14.0 (from tensorflow)\n",
      "\u001b[?25l  Downloading https://files.pythonhosted.org/packages/91/2d/2ed263449a078cd9c8a9ba50ebd50123adf1f8cfbea1492f9084169b89d9/tensorboard-1.14.0-py3-none-any.whl (3.1MB)\n",
      "\u001b[K    100% |████████████████████████████████| 3.2MB 6.2MB/s eta 0:00:01  1% |▌                               | 51kB 15.6MB/s eta 0:00:01\n",
      "\u001b[?25hCollecting google-pasta>=0.1.6 (from tensorflow)\n",
      "\u001b[?25l  Downloading https://files.pythonhosted.org/packages/d0/33/376510eb8d6246f3c30545f416b2263eee461e40940c2a4413c711bdf62d/google_pasta-0.1.7-py3-none-any.whl (52kB)\n",
      "\u001b[K    100% |████████████████████████████████| 61kB 9.5MB/s eta 0:00:01\n",
      "\u001b[?25hCollecting tensorflow-estimator<1.15.0rc0,>=1.14.0rc0 (from tensorflow)\n",
      "  Using cached https://files.pythonhosted.org/packages/3c/d5/21860a5b11caf0678fbc8319341b0ae21a07156911132e0e71bffed0510d/tensorflow_estimator-1.14.0-py2.py3-none-any.whl\n",
      "Requirement already satisfied, skipping upgrade: grpcio>=1.8.6 in /usr/local/envs/py3env/lib/python3.5/site-packages (from tensorflow) (1.21.1)\n",
      "Collecting keras-applications>=1.0.6 (from tensorflow)\n",
      "\u001b[?25l  Downloading https://files.pythonhosted.org/packages/71/e3/19762fdfc62877ae9102edf6342d71b28fbfd9dea3d2f96a882ce099b03f/Keras_Applications-1.0.8-py3-none-any.whl (50kB)\n",
      "\u001b[K    100% |████████████████████████████████| 51kB 12.4MB/s ta 0:00:01\n",
      "\u001b[?25hRequirement already satisfied, skipping upgrade: setuptools in /usr/local/envs/py3env/lib/python3.5/site-packages (from protobuf>=3.6.1->tensorflow) (40.2.0)\n",
      "Requirement already satisfied, skipping upgrade: werkzeug>=0.11.15 in /usr/local/envs/py3env/lib/python3.5/site-packages (from tensorboard<1.15.0,>=1.14.0->tensorflow) (0.15.4)\n",
      "Requirement already satisfied, skipping upgrade: markdown>=2.6.8 in /usr/local/envs/py3env/lib/python3.5/site-packages (from tensorboard<1.15.0,>=1.14.0->tensorflow) (2.6.11)\n",
      "Requirement already satisfied, skipping upgrade: h5py in /usr/local/envs/py3env/lib/python3.5/site-packages (from keras-applications>=1.0.6->tensorflow) (2.7.1)\n",
      "Building wheels for collected packages: wrapt\n",
      "  Running setup.py bdist_wheel for wrapt ... \u001b[?25ldone\n",
      "\u001b[?25h  Stored in directory: /content/.cache/pip/wheels/d7/de/2e/efa132238792efb6459a96e85916ef8597fcb3d2ae51590dfd\n",
      "Successfully built wrapt\n",
      "\u001b[31mtensorboard 1.14.0 has requirement setuptools>=41.0.0, but you'll have setuptools 40.2.0 which is incompatible.\u001b[0m\n",
      "Installing collected packages: numpy, keras-preprocessing, wrapt, tensorboard, google-pasta, tensorflow-estimator, keras-applications, tensorflow\n",
      "  Found existing installation: numpy 1.14.0\n",
      "    Uninstalling numpy-1.14.0:\n",
      "      Successfully uninstalled numpy-1.14.0\n",
      "  Found existing installation: tensorboard 1.8.0\n",
      "    Uninstalling tensorboard-1.8.0:\n",
      "      Successfully uninstalled tensorboard-1.8.0\n",
      "  Found existing installation: tensorflow 1.8.0\n",
      "    Uninstalling tensorflow-1.8.0:\n",
      "      Successfully uninstalled tensorflow-1.8.0\n",
      "Successfully installed google-pasta-0.1.7 keras-applications-1.0.8 keras-preprocessing-1.1.0 numpy-1.16.4 tensorboard-1.14.0 tensorflow-1.14.0 tensorflow-estimator-1.14.0 wrapt-1.11.2\n"
     ]
    }
   ],
   "source": [
    "!pip install -U tensorflow"
   ]
  },
  {
   "cell_type": "code",
   "execution_count": 2,
   "metadata": {},
   "outputs": [
    {
     "name": "stderr",
     "output_type": "stream",
     "text": [
      "/usr/local/envs/py3env/lib/python3.5/site-packages/h5py/__init__.py:36: FutureWarning: Conversion of the second argument of issubdtype from `float` to `np.floating` is deprecated. In future, it will be treated as `np.float64 == np.dtype(float).type`.\n",
      "  from ._conv import register_converters as _register_converters\n"
     ]
    },
    {
     "name": "stdout",
     "output_type": "stream",
     "text": [
      "1.14.0\n"
     ]
    }
   ],
   "source": [
    "import tensorflow as tf\n",
    "print(tf.__version__)"
   ]
  },
  {
   "cell_type": "code",
   "execution_count": null,
   "metadata": {},
   "outputs": [],
   "source": []
  }
 ],
 "metadata": {
  "kernelspec": {
   "display_name": "Python 3",
   "language": "python",
   "name": "python3"
  },
  "language_info": {
   "codemirror_mode": {
    "name": "ipython",
    "version": 3
   },
   "file_extension": ".py",
   "mimetype": "text/x-python",
   "name": "python",
   "nbconvert_exporter": "python",
   "pygments_lexer": "ipython3",
   "version": "3.5.6"
  }
 },
 "nbformat": 4,
 "nbformat_minor": 2
}
